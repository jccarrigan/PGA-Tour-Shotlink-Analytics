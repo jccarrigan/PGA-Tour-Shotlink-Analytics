{
 "cells": [
  {
   "cell_type": "code",
   "execution_count": null,
   "metadata": {},
   "outputs": [],
   "source": [
    "player = set(df['PlayerFullName'])b"
   ]
  },
  {
   "cell_type": "code",
   "execution_count": null,
   "metadata": {},
   "outputs": [],
   "source": [
    "dict = {}\n",
    "\n",
    "for p in player:\n",
    "\n",
    "    # Subset to all shots that went into the hole\n",
    "    new_df = df[(df['IntheHoleFlag'] == 'Y') & (df['PlayerFullName'] == p)]\n",
    "    \n",
    "    # Get max distance\n",
    "    max_distance = new_df[(new_df['DistanceYds']) == max(new_df['DistanceYds'])]\n",
    "    \n",
    "    # Grab element for distance from pandas series\n",
    "    distance = max_distance['DistanceYds'].values[0]\n",
    "    \n",
    "    # Store to dictionary of player, distance\n",
    "    dict[p] = distance"
   ]
  },
  {
   "cell_type": "code",
   "execution_count": null,
   "metadata": {},
   "outputs": [],
   "source": [
    "# Convert dictionary into Pandas DF\n",
    "df_distance = pd.DataFrame()\n",
    "df_distance['Player'] = dict.keys()\n",
    "df_distance['Distance'] = dict.values()"
   ]
  },
  {
   "cell_type": "code",
   "execution_count": null,
   "metadata": {},
   "outputs": [],
   "source": [
    "# Sort the values\n",
    "df_sorted_distance = df_distance.sort_values(by='Distance', ascending=False)"
   ]
  },
  {
   "cell_type": "code",
   "execution_count": null,
   "metadata": {},
   "outputs": [],
   "source": [
    "df_sorted_distance.head()"
   ]
  },
  {
   "cell_type": "code",
   "execution_count": null,
   "metadata": {},
   "outputs": [],
   "source": [
    "import seaborn as sns\n",
    "import matplotlib.pyplot as plt\n",
    "from matplotlib import rcParams\n",
    "\n",
    "# figure size in inches\n",
    "rcParams['figure.figsize'] = 10,90\n",
    "\n",
    "\n",
    "ax = sns.barplot(x=\"Distance\", y=\"Player\", data=df_sorted_distance)"
   ]
  },
  {
   "cell_type": "code",
   "execution_count": null,
   "metadata": {},
   "outputs": [],
   "source": [
    "# figure size in inches\n",
    "rcParams['figure.figsize'] = 10,110\n",
    "\n",
    "\n",
    "plot = sns.barplot(x=\"Distance\", y=\"Player\", data=df_sorted_distance).set_title(\"Longest Shot Holed Out - 2018 Season\")\n",
    "\n",
    "ax = plt.gca()\n",
    "\n",
    "for p in ax.patches:\n",
    "    ax.text(p.get_width(), p.get_y() + p.get_height()/2., '%d' % int(p.get_width()), \n",
    "            fontsize=8, color='black', ha='right', va='center')"
   ]
  }
 ],
 "metadata": {
  "kernelspec": {
   "display_name": "Python 3",
   "language": "python",
   "name": "python3"
  },
  "language_info": {
   "codemirror_mode": {
    "name": "ipython",
    "version": 3
   },
   "file_extension": ".py",
   "mimetype": "text/x-python",
   "name": "python",
   "nbconvert_exporter": "python",
   "pygments_lexer": "ipython3",
   "version": "3.6.6"
  }
 },
 "nbformat": 4,
 "nbformat_minor": 2
}
