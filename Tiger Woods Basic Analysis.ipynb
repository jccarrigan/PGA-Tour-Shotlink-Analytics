{
 "cells": [
  {
   "cell_type": "markdown",
   "metadata": {},
   "source": [
    "## Setup"
   ]
  },
  {
   "cell_type": "code",
   "execution_count": 22,
   "metadata": {},
   "outputs": [
    {
     "name": "stdout",
     "output_type": "stream",
     "text": [
      "/Users/nicholasbeaudoin/Desktop/ShotLink Analytics\r\n"
     ]
    }
   ],
   "source": [
    "import pandas as pd\n",
    "from pandas.io import sql\n",
    "import sqlite3\n",
    "import timeit\n",
    "import matplotlib.pyplot as plt\n",
    "\n",
    "pd.set_option('display.max_rows', 500)\n",
    "pd.set_option('display.max_columns', 500)\n",
    "\n",
    "! pwd"
   ]
  },
  {
   "cell_type": "code",
   "execution_count": 23,
   "metadata": {},
   "outputs": [],
   "source": [
    "# Create SQl DB connection\n",
    "conn = sqlite3.connect('Shotlink.db')"
   ]
  },
  {
   "cell_type": "code",
   "execution_count": 24,
   "metadata": {},
   "outputs": [
    {
     "name": "stdout",
     "output_type": "stream",
     "text": [
      "39140\n"
     ]
    }
   ],
   "source": [
    "# Query data for Tiger Woods\n",
    "df = sql.read_sql(\"\"\"SELECT * FROM Shotlink \n",
    "                WHERE PlayerLastName = 'Woods'\"\"\", con=conn)\n",
    "print(len(df))"
   ]
  },
  {
   "cell_type": "code",
   "execution_count": 25,
   "metadata": {},
   "outputs": [],
   "source": [
    "### Data cleaning\n",
    "\n",
    "# Create full player names\n",
    "df['PlayerFullName'] = df['PlayerLastName'] + \", \" + df['PlayerFirstName']\n",
    "\n",
    "# Convert to numeric values\n",
    "df['Round'] = pd.to_numeric(df['Round'], errors='coerce')\n",
    "df['Distance'] = pd.to_numeric(df['Distance'], errors='coerce')\n",
    "df['Hole'] = pd.to_numeric(df['Hole'], errors='coerce')\n",
    "df['HoleScore'] = pd.to_numeric(df['HoleScore'], errors='coerce')\n",
    "df['Yardage'] = pd.to_numeric(df['Yardage'], errors='coerce')\n",
    "df['Shot'] = pd.to_numeric(df['Shot'], errors='coerce')\n",
    "df['#ofStrokes'] = pd.to_numeric(df['#ofStrokes'], errors='coerce')\n",
    "df['DistancetoPin'] = pd.to_numeric(df['DistancetoPin'], errors='coerce')\n",
    "df['DistancetoHoleaftertheShot'] = pd.to_numeric(df['DistancetoHoleaftertheShot'], errors='coerce')\n",
    "df['DistancefromEdge'] = pd.to_numeric(df['DistancefromEdge'], errors='coerce')\n",
    "df['StrokesGained/Baseline'] = pd.to_numeric(df['StrokesGained/Baseline'], errors='coerce')\n",
    "\n",
    "### Normalize Distances\n",
    "\n",
    "df['DistanceYds'] = df['Distance']//36\n",
    "df['DistancetoPinYds'] = df['DistancetoPin']//36\n",
    "df['DistancetoHoleaftertheShotYds'] = df['DistancetoHoleaftertheShot']//36\n",
    "#df['DistancefromCenterYds'] = df['DistancefromCenter']//36\n",
    "df['DistancefromEdgeYds'] = df['DistancefromEdge']//36\n",
    "\n",
    "df['DistanceFt'] = round(df['Distance']/12, 1)\n",
    "df['DistancetoPinFt'] = round(df['DistancetoPin']/12, 1)\n",
    "df['DistancetoHoleaftertheShotFt'] = round(df['DistancetoHoleaftertheShot']/12, 1)\n",
    "#df['DistancefromCenterFt'] = round(df['DistancefromCenter']/12, 1)\n",
    "df['DistancefromEdgeFt'] = round(df['DistancefromEdge']/12, 1)"
   ]
  },
  {
   "cell_type": "markdown",
   "metadata": {},
   "source": [
    "## Longest hole-out for Woods"
   ]
  },
  {
   "cell_type": "code",
   "execution_count": 26,
   "metadata": {},
   "outputs": [
    {
     "data": {
      "text/plain": [
       "130"
      ]
     },
     "execution_count": 26,
     "metadata": {},
     "output_type": "execute_result"
    }
   ],
   "source": [
    "# Longest hole-out; subset to all shots that went into hole\n",
    "new_df = df[(df['IntheHoleFlag'] == 'Y')]\n",
    "\n",
    "# Farthest hole out in subset df\n",
    "max_distance = new_df[(new_df['DistanceYds']) == max(new_df['DistanceYds'])]\n",
    "max_distance\n",
    "\n",
    "# Get the distance only\n",
    "distance = max_distance['DistanceYds'].values[0]\n",
    "distance"
   ]
  },
  {
   "cell_type": "markdown",
   "metadata": {},
   "source": [
    "## Longest tee shot for Woods"
   ]
  },
  {
   "cell_type": "code",
   "execution_count": 10,
   "metadata": {},
   "outputs": [
    {
     "data": {
      "text/plain": [
       "439"
      ]
     },
     "execution_count": 10,
     "metadata": {},
     "output_type": "execute_result"
    }
   ],
   "source": [
    "# Longest drive in subset df\n",
    "max_distance = df[(df['DistanceYds']) == max(df['DistanceYds'])]\n",
    "max_distance\n",
    "\n",
    "# Get the distance only\n",
    "distance = max_distance['DistanceYds'].values[0]\n",
    "distance"
   ]
  },
  {
   "cell_type": "markdown",
   "metadata": {},
   "source": [
    "## Tiger Woods Fairway Percentage (2003-2018)"
   ]
  },
  {
   "cell_type": "code",
   "execution_count": 27,
   "metadata": {},
   "outputs": [
    {
     "name": "stdout",
     "output_type": "stream",
     "text": [
      "2008\n",
      "0.5714285714285714\n",
      "2005\n",
      "0.5379901960784313\n",
      "2018\n",
      "0.5894308943089431\n",
      "2009\n",
      "0.6383928571428571\n",
      "2012\n",
      "0.625\n",
      "2010\n",
      "0.5443349753694581\n",
      "2007\n",
      "0.6022727272727273\n",
      "2011\n",
      "0.46616541353383456\n",
      "2014\n",
      "0.5357142857142857\n",
      "2015\n",
      "0.5565476190476191\n",
      "2017\n",
      "0.2857142857142857\n",
      "2004\n",
      "0.5723350253807107\n",
      "2003\n",
      "0.6441798941798942\n",
      "2013\n",
      "0.6245847176079734\n",
      "2006\n",
      "0.6015037593984962\n"
     ]
    }
   ],
   "source": [
    "# Create unique years\n",
    "years = set(df['Year'])\n",
    "\n",
    "# Create dictionary to store years and percentages\n",
    "dict = {}\n",
    "\n",
    "# Loop through years and find Tiger's average fairway percetnage\n",
    "for year in years:\n",
    "    \n",
    "    df_year = df[df['Year'] == year]\n",
    "    \n",
    "    # Subset for par 4/5s\n",
    "    new_df = df_year[(df_year['ParValue'] == '04') | (df_year['ParValue'] == '05')]\n",
    "    \n",
    "    # Just tee shots (ignore NaN values)\n",
    "    tee_shot_45_df = new_df[(new_df['Shot'] == 1) & (new_df['To Location(Scorer)'].notnull())]\n",
    "    \n",
    "    # Subset to greens and fairways (ignore NaN values)\n",
    "    greens_fairways_df = tee_shot_45_df[(tee_shot_45_df['To Location(Scorer)'] == 'Green') | (tee_shot_45_df['To Location(Scorer)'] == 'Fairway')]\n",
    "    \n",
    "    # Calculate percentage fairways\n",
    "    percentage = len(greens_fairways_df)/len(tee_shot_45_df)\n",
    "    \n",
    "    print(year)\n",
    "    print(percentage)\n",
    "    \n",
    "    # Add to dictionary\n",
    "    dict[year] = percentage"
   ]
  },
  {
   "cell_type": "code",
   "execution_count": 28,
   "metadata": {},
   "outputs": [],
   "source": [
    "# Convert dictionary into Pandas DF\n",
    "fairway_df = pd.DataFrame()\n",
    "fairway_df['Year'] = dict.keys()\n",
    "fairway_df['percentage'] = dict.values()"
   ]
  },
  {
   "cell_type": "code",
   "execution_count": 30,
   "metadata": {},
   "outputs": [],
   "source": [
    "# Sort the values\n",
    "fairway_df = fairway_df.sort_values(by='Year', ascending=False)"
   ]
  },
  {
   "cell_type": "code",
   "execution_count": 32,
   "metadata": {},
   "outputs": [
    {
     "data": {
      "text/html": [
       "<div>\n",
       "<style scoped>\n",
       "    .dataframe tbody tr th:only-of-type {\n",
       "        vertical-align: middle;\n",
       "    }\n",
       "\n",
       "    .dataframe tbody tr th {\n",
       "        vertical-align: top;\n",
       "    }\n",
       "\n",
       "    .dataframe thead th {\n",
       "        text-align: right;\n",
       "    }\n",
       "</style>\n",
       "<table border=\"1\" class=\"dataframe\">\n",
       "  <thead>\n",
       "    <tr style=\"text-align: right;\">\n",
       "      <th></th>\n",
       "      <th>Year</th>\n",
       "      <th>percentage</th>\n",
       "    </tr>\n",
       "  </thead>\n",
       "  <tbody>\n",
       "    <tr>\n",
       "      <th>2</th>\n",
       "      <td>2018</td>\n",
       "      <td>0.589431</td>\n",
       "    </tr>\n",
       "    <tr>\n",
       "      <th>10</th>\n",
       "      <td>2017</td>\n",
       "      <td>0.285714</td>\n",
       "    </tr>\n",
       "    <tr>\n",
       "      <th>9</th>\n",
       "      <td>2015</td>\n",
       "      <td>0.556548</td>\n",
       "    </tr>\n",
       "    <tr>\n",
       "      <th>8</th>\n",
       "      <td>2014</td>\n",
       "      <td>0.535714</td>\n",
       "    </tr>\n",
       "    <tr>\n",
       "      <th>13</th>\n",
       "      <td>2013</td>\n",
       "      <td>0.624585</td>\n",
       "    </tr>\n",
       "  </tbody>\n",
       "</table>\n",
       "</div>"
      ],
      "text/plain": [
       "    Year  percentage\n",
       "2   2018    0.589431\n",
       "10  2017    0.285714\n",
       "9   2015    0.556548\n",
       "8   2014    0.535714\n",
       "13  2013    0.624585"
      ]
     },
     "execution_count": 32,
     "metadata": {},
     "output_type": "execute_result"
    }
   ],
   "source": [
    "fairway_df.head()"
   ]
  },
  {
   "cell_type": "code",
   "execution_count": 49,
   "metadata": {},
   "outputs": [
    {
     "data": {
      "image/png": "[encoded data removed]",
      "text/plain": [
       "<Figure size 1440x720 with 1 Axes>"
      ]
     },
     "metadata": {},
     "output_type": "display_data"
    }
   ],
   "source": [
    "import seaborn as sns\n",
    "import matplotlib.pyplot as plt\n",
    "from matplotlib import rcParams\n",
    "\n",
    "# figure size in inches\n",
    "rcParams['figure.figsize'] = 20,10\n",
    "\n",
    "\n",
    "ax = sns.barplot(x=\"Year\", y=\"percentage\", data=fairway_df)"
   ]
  },
  {
   "cell_type": "code",
   "execution_count": null,
   "metadata": {},
   "outputs": [],
   "source": []
  }
 ],
 "metadata": {
  "kernelspec": {
   "display_name": "Python 3",
   "language": "python",
   "name": "python3"
  },
  "language_info": {
   "codemirror_mode": {
    "name": "ipython",
    "version": 3
   },
   "file_extension": ".py",
   "mimetype": "text/x-python",
   "name": "python",
   "nbconvert_exporter": "python",
   "pygments_lexer": "ipython3",
   "version": "3.6.6"
  }
 },
 "nbformat": 4,
 "nbformat_minor": 2
}
