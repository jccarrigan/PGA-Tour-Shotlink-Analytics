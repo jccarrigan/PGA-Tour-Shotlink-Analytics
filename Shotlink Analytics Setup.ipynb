{
 "cells": [
  {
   "cell_type": "code",
   "execution_count": 9,
   "metadata": {},
   "outputs": [],
   "source": [
    "import pandas as pd\n",
    "from pandas.io import sql\n",
    "import sqlite3\n",
    "import timeit\n",
    "\n",
    "pd.set_option('display.max_rows', 500)\n",
    "pd.set_option('display.max_columns', 500)"
   ]
  },
  {
   "cell_type": "code",
   "execution_count": 10,
   "metadata": {},
   "outputs": [
    {
     "data": {
      "text/plain": [
       "'/Users/nicholasbeaudoin/Desktop/ShotLink Analytics'"
      ]
     },
     "execution_count": 10,
     "metadata": {},
     "output_type": "execute_result"
    }
   ],
   "source": [
    "pwd"
   ]
  },
  {
   "cell_type": "code",
   "execution_count": 25,
   "metadata": {},
   "outputs": [],
   "source": [
    "conn = sqlite3.connect('Shotlink.db')"
   ]
  },
  {
   "cell_type": "code",
   "execution_count": 26,
   "metadata": {},
   "outputs": [],
   "source": [
    "# col_names = ['Tour Code', 'TourDescription', 'Year', 'Tourn.#', 'Player#',\n",
    "#        'Course#', 'PermanentTournament#', 'PlayerFirstName',\n",
    "#        'PlayerLastName', 'Round', 'TournamentName', 'CourseName',\n",
    "#        'Hole', 'HoleScore', 'ParValue', 'Yardage', 'Shot',\n",
    "#        'ShotType(S/P/D)', '#ofStrokes', 'FromLocation(Scorer)',\n",
    "#        'FromLocation(Enhanced)', 'To Location(Scorer)',\n",
    "#        'ToLocation(Enhanced)', 'Distance', 'DistancetoPin',\n",
    "#        'IntheHoleFlag', 'AroundtheGreenFlag', '1stPuttFlag',\n",
    "#        'DistancetoHoleaftertheShot', 'Time', 'Lie', 'Elevation',\n",
    "#        'Slope', 'X Coordinate', 'Y Coordinate', 'Z Coordinate',\n",
    "#        'DistancefromCenter', 'DistancefromEdge', 'Date', 'Left/Right',\n",
    "#        'StrokesGained/Baseline', 'StrokesGainedCategory',\n",
    "#        'RecoveryShot']"
   ]
  },
  {
   "cell_type": "code",
   "execution_count": 27,
   "metadata": {},
   "outputs": [
    {
     "name": "stdout",
     "output_type": "stream",
     "text": [
      "Working on year 2003 data\n",
      "Data loaded in dataframe\n",
      "Uploaded to DB\n",
      "Working on year 2004 data\n",
      "Data loaded in dataframe\n",
      "Uploaded to DB\n",
      "Working on year 2005 data\n",
      "Data loaded in dataframe\n",
      "Uploaded to DB\n",
      "Working on year 2006 data\n",
      "Data loaded in dataframe\n",
      "Uploaded to DB\n",
      "Working on year 2007 data\n",
      "Data loaded in dataframe\n",
      "Uploaded to DB\n",
      "Working on year 2008 data\n",
      "Data loaded in dataframe\n",
      "Uploaded to DB\n",
      "Working on year 2009 data\n",
      "Data loaded in dataframe\n",
      "Uploaded to DB\n",
      "Working on year 2010 data\n",
      "Data loaded in dataframe\n",
      "Uploaded to DB\n",
      "Working on year 2011 data\n",
      "Data loaded in dataframe\n",
      "Uploaded to DB\n",
      "Working on year 2012 data\n",
      "Data loaded in dataframe\n",
      "Uploaded to DB\n",
      "Working on year 2013 data\n",
      "Data loaded in dataframe\n",
      "Uploaded to DB\n",
      "Working on year 2014 data\n",
      "Data loaded in dataframe\n",
      "Uploaded to DB\n",
      "Working on year 2015 data\n",
      "Data loaded in dataframe\n",
      "Uploaded to DB\n",
      "Working on year 2016 data\n",
      "Data loaded in dataframe\n",
      "Uploaded to DB\n",
      "Working on year 2017 data\n",
      "Data loaded in dataframe\n",
      "Uploaded to DB\n",
      "Working on year 2018 data\n",
      "Data loaded in dataframe\n",
      "Uploaded to DB\n"
     ]
    }
   ],
   "source": [
    "# years = list(range(2003, 2019))\n",
    "\n",
    "# for i in years:\n",
    "\n",
    "#     print('Working on year {} data'.format(i))\n",
    "    \n",
    "#     # Bring in data from local machine into pandas\n",
    "#     df = pd.read_csv(\"data/tour_{}.TXT\".format(i), sep=';', names = col_names, low_memory=False, encoding='latin-1')\n",
    "\n",
    "#     print(\"Data loaded in dataframe\")\n",
    "    \n",
    "#     # Drop first row because we created new headers\n",
    "#     df.drop(0, inplace=True)\n",
    "\n",
    "#     # Move to SQL DB\n",
    "#     df.to_sql(\"Shotlink\".format(i), con=conn, if_exists='append', index=False)\n",
    "    \n",
    "#     # Status check\n",
    "#     print('Uploaded to DB')\n",
    "    \n",
    "#     # Delete DF from local memory\n",
    "#     del df"
   ]
  },
  {
   "cell_type": "markdown",
   "metadata": {},
   "source": [
    "## Generic one-player query"
   ]
  },
  {
   "cell_type": "code",
   "execution_count": 38,
   "metadata": {},
   "outputs": [
    {
     "name": "stdout",
     "output_type": "stream",
     "text": [
      "39140\n"
     ]
    }
   ],
   "source": [
    "df = sql.read_sql(\"\"\"SELECT * FROM Shotlink \n",
    "                WHERE PlayerLastName = 'Woods'\"\"\", con=conn)\n",
    "df.head()\n",
    "print(len(df))"
   ]
  },
  {
   "cell_type": "markdown",
   "metadata": {},
   "source": [
    "## Data Cleaning"
   ]
  },
  {
   "cell_type": "code",
   "execution_count": 30,
   "metadata": {},
   "outputs": [],
   "source": [
    "# Create full player names\n",
    "df['PlayerFullName'] = df['PlayerLastName'] + \", \" + df['PlayerFirstName']\n",
    "\n",
    "# Convert to numeric values\n",
    "df['Round'] = pd.to_numeric(df['Round'], errors='coerce')\n",
    "df['Distance'] = pd.to_numeric(df['Distance'], errors='coerce')\n",
    "df['Hole'] = pd.to_numeric(df['Hole'], errors='coerce')\n",
    "df['HoleScore'] = pd.to_numeric(df['HoleScore'], errors='coerce')\n",
    "df['Yardage'] = pd.to_numeric(df['Yardage'], errors='coerce')\n",
    "df['Shot'] = pd.to_numeric(df['Shot'], errors='coerce')\n",
    "df['#ofStrokes'] = pd.to_numeric(df['#ofStrokes'], errors='coerce')\n",
    "df['DistancetoPin'] = pd.to_numeric(df['DistancetoPin'], errors='coerce')\n",
    "df['DistancetoHoleaftertheShot'] = pd.to_numeric(df['DistancetoHoleaftertheShot'], errors='coerce')\n",
    "df['DistancefromEdge'] = pd.to_numeric(df['DistancefromEdge'], errors='coerce')\n",
    "df['StrokesGained/Baseline'] = pd.to_numeric(df['StrokesGained/Baseline'], errors='coerce')\n",
    "\n",
    "# Change NaN to zeros\n",
    "df.fillna(0, inplace=True)"
   ]
  },
  {
   "cell_type": "code",
   "execution_count": 31,
   "metadata": {},
   "outputs": [
    {
     "data": {
      "text/plain": [
       "Tour Code                     0\n",
       "TourDescription               0\n",
       "Year                          0\n",
       "Tourn.#                       0\n",
       "Player#                       0\n",
       "Course#                       0\n",
       "PermanentTournament#          0\n",
       "PlayerFirstName               0\n",
       "PlayerLastName                0\n",
       "Round                         0\n",
       "TournamentName                0\n",
       "CourseName                    0\n",
       "Hole                          0\n",
       "HoleScore                     0\n",
       "ParValue                      0\n",
       "Yardage                       0\n",
       "Shot                          0\n",
       "ShotType(S/P/D)               0\n",
       "#ofStrokes                    0\n",
       "FromLocation(Scorer)          0\n",
       "FromLocation(Enhanced)        0\n",
       "To Location(Scorer)           0\n",
       "ToLocation(Enhanced)          0\n",
       "Distance                      0\n",
       "DistancetoPin                 0\n",
       "IntheHoleFlag                 0\n",
       "AroundtheGreenFlag            0\n",
       "1stPuttFlag                   0\n",
       "DistancetoHoleaftertheShot    0\n",
       "Time                          0\n",
       "Lie                           0\n",
       "Elevation                     0\n",
       "Slope                         0\n",
       "X Coordinate                  0\n",
       "Y Coordinate                  0\n",
       "Z Coordinate                  0\n",
       "DistancefromCenter            0\n",
       "DistancefromEdge              0\n",
       "Date                          0\n",
       "Left/Right                    0\n",
       "StrokesGained/Baseline        0\n",
       "StrokesGainedCategory         0\n",
       "RecoveryShot                  0\n",
       "PlayerFullName                0\n",
       "dtype: int64"
      ]
     },
     "execution_count": 31,
     "metadata": {},
     "output_type": "execute_result"
    }
   ],
   "source": [
    "df.isnull().sum()"
   ]
  },
  {
   "cell_type": "code",
   "execution_count": 32,
   "metadata": {},
   "outputs": [
    {
     "data": {
      "text/plain": [
       "Tour Code                      object\n",
       "TourDescription                object\n",
       "Year                           object\n",
       "Tourn.#                        object\n",
       "Player#                        object\n",
       "Course#                        object\n",
       "PermanentTournament#           object\n",
       "PlayerFirstName                object\n",
       "PlayerLastName                 object\n",
       "Round                           int64\n",
       "TournamentName                 object\n",
       "CourseName                     object\n",
       "Hole                            int64\n",
       "HoleScore                       int64\n",
       "ParValue                       object\n",
       "Yardage                         int64\n",
       "Shot                            int64\n",
       "ShotType(S/P/D)                object\n",
       "#ofStrokes                      int64\n",
       "FromLocation(Scorer)           object\n",
       "FromLocation(Enhanced)         object\n",
       "To Location(Scorer)            object\n",
       "ToLocation(Enhanced)           object\n",
       "Distance                        int64\n",
       "DistancetoPin                   int64\n",
       "IntheHoleFlag                  object\n",
       "AroundtheGreenFlag             object\n",
       "1stPuttFlag                    object\n",
       "DistancetoHoleaftertheShot      int64\n",
       "Time                           object\n",
       "Lie                            object\n",
       "Elevation                      object\n",
       "Slope                          object\n",
       "X Coordinate                   object\n",
       "Y Coordinate                   object\n",
       "Z Coordinate                   object\n",
       "DistancefromCenter             object\n",
       "DistancefromEdge                int64\n",
       "Date                           object\n",
       "Left/Right                     object\n",
       "StrokesGained/Baseline        float64\n",
       "StrokesGainedCategory          object\n",
       "RecoveryShot                   object\n",
       "PlayerFullName                 object\n",
       "dtype: object"
      ]
     },
     "execution_count": 32,
     "metadata": {},
     "output_type": "execute_result"
    }
   ],
   "source": [
    "df.dtypes"
   ]
  },
  {
   "cell_type": "code",
   "execution_count": 33,
   "metadata": {},
   "outputs": [],
   "source": [
    "# Normalize Distances\n",
    "\n",
    "df['DistanceYds'] = df['Distance']//36\n",
    "df['DistancetoPinYds'] = df['DistancetoPin']//36\n",
    "df['DistancetoHoleaftertheShotYds'] = df['DistancetoHoleaftertheShot']//36\n",
    "#df['DistancefromCenterYds'] = df['DistancefromCenter']//36\n",
    "df['DistancefromEdgeYds'] = df['DistancefromEdge']//36\n",
    "\n",
    "df['DistanceFt'] = round(df['Distance']/12, 1)\n",
    "df['DistancetoPinFt'] = round(df['DistancetoPin']/12, 1)\n",
    "df['DistancetoHoleaftertheShotFt'] = round(df['DistancetoHoleaftertheShot']/12, 1)\n",
    "#df['DistancefromCenterFt'] = round(df['DistancefromCenter']/12, 1)\n",
    "df['DistancefromEdgeFt'] = round(df['DistancefromEdge']/12, 1)"
   ]
  }
 ],
 "metadata": {
  "kernelspec": {
   "display_name": "Python 3",
   "language": "python",
   "name": "python3"
  },
  "language_info": {
   "codemirror_mode": {
    "name": "ipython",
    "version": 3
   },
   "file_extension": ".py",
   "mimetype": "text/x-python",
   "name": "python",
   "nbconvert_exporter": "python",
   "pygments_lexer": "ipython3",
   "version": "3.6.6"
  }
 },
 "nbformat": 4,
 "nbformat_minor": 2
}
